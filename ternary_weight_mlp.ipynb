{
 "cells": [
  {
   "cell_type": "code",
   "execution_count": 18,
   "metadata": {},
   "outputs": [
    {
     "name": "stdout",
     "output_type": "stream",
     "text": [
      "Epoch [500/5000], Loss: 0.6945\n",
      "Epoch [1000/5000], Loss: 0.6932\n",
      "Epoch [1500/5000], Loss: 0.6931\n",
      "Epoch [2000/5000], Loss: 0.6931\n",
      "Epoch [2500/5000], Loss: 0.6930\n",
      "Epoch [3000/5000], Loss: 0.6930\n",
      "Epoch [3500/5000], Loss: 0.6929\n",
      "Epoch [4000/5000], Loss: 0.6928\n",
      "Epoch [4500/5000], Loss: 0.6928\n",
      "Epoch [5000/5000], Loss: 0.6927\n",
      "Predicted probabilities: tensor([[0.4755],\n",
      "        [0.4906],\n",
      "        [0.5105],\n",
      "        [0.5234]])\n",
      "Predicted labels: tensor([[0.],\n",
      "        [0.],\n",
      "        [1.],\n",
      "        [1.]])\n"
     ]
    },
    {
     "data": {
      "text/plain": [
       "'network_graph.png'"
      ]
     },
     "execution_count": 18,
     "metadata": {},
     "output_type": "execute_result"
    }
   ],
   "source": [
    "import torch\n",
    "import torch.nn as nn\n",
    "import torch.optim as optim\n",
    "from torchviz import make_dot\n",
    "\n",
    "class TwoLayerMLP(nn.Module):\n",
    "    def __init__(self):\n",
    "        super(TwoLayerMLP, self).__init__()\n",
    "        self.layer1 = nn.Linear(2, 2)\n",
    "        self.output_layer = nn.Linear(2, 1)\n",
    "    \n",
    "    def forward(self, x):\n",
    "        x = torch.sigmoid(self.layer1(x))\n",
    "        x = torch.sigmoid(self.output_layer(x))\n",
    "        return x\n",
    "\n",
    "# XOR dataset\n",
    "# Inputs and corresponding labels\n",
    "X = torch.tensor([[0, 0], [0, 1], [1, 0], [1, 1]], dtype=torch.float32)\n",
    "Y = torch.tensor([[0], [1], [1], [0]], dtype=torch.float32)\n",
    "\n",
    "# Initialize the network\n",
    "mlp = TwoLayerMLP()\n",
    "\n",
    "# Loss Function\n",
    "criterion = nn.BCELoss()\n",
    "\n",
    "# Optimizer\n",
    "optimizer = optim.SGD(mlp.parameters(), lr=0.01)\n",
    "\n",
    "# Number of epochs (iterations over the dataset)\n",
    "num_epochs = 5000\n",
    "\n",
    "# Training loop\n",
    "for epoch in range(num_epochs):\n",
    "    # Forward pass: Compute predicted y by passing x to the model\n",
    "    Y_pred = mlp(X)\n",
    "\n",
    "    # Compute and print loss\n",
    "    loss = criterion(Y_pred, Y)\n",
    "\n",
    "    # Zero gradients, perform a backward pass, and update the weights.\n",
    "    optimizer.zero_grad()\n",
    "    loss.backward()\n",
    "    optimizer.step()\n",
    "\n",
    "    if (epoch+1) % 500 == 0:\n",
    "        print(f'Epoch [{epoch+1}/{num_epochs}], Loss: {loss.item():.4f}')\n",
    "\n",
    "# Testing the model\n",
    "with torch.no_grad():\n",
    "    Y_test = mlp(X)\n",
    "    print(\"Predicted probabilities:\", Y_test)\n",
    "    print(\"Predicted labels:\", torch.round(Y_test))\n",
    "\n",
    "# Example input\n",
    "example_input = torch.tensor([[0.5, -0.2]], dtype=torch.float32)\n",
    "\n",
    "# Forward pass\n",
    "y_pred = mlp(example_input)\n",
    "\n",
    "# Visualize the network\n",
    "dot = make_dot(y_pred, params=dict(list(mlp.named_parameters()) + [('input', example_input)]))\n",
    "dot.render('network_graph', format='png', quiet=True)  # This will save the graph as 'network_graph.png' in the working directory."
   ]
  },
  {
   "cell_type": "code",
   "execution_count": 15,
   "metadata": {},
   "outputs": [
    {
     "data": {
      "text/plain": [
       "'network_graph.png'"
      ]
     },
     "execution_count": 15,
     "metadata": {},
     "output_type": "execute_result"
    }
   ],
   "source": [
    "import torch\n",
    "import torch.nn as nn\n",
    "import torch.optim as optim\n",
    "from torchviz import make_dot\n",
    "\n",
    "class TwoLayerMLP(nn.Module):\n",
    "    def __init__(self):\n",
    "        super(TwoLayerMLP, self).__init__()\n",
    "        self.layer1 = nn.Linear(2, 2)\n",
    "        self.output_layer = nn.Linear(2, 1)\n",
    "    \n",
    "    def forward(self, x):\n",
    "        x = torch.sigmoid(self.layer1(x))\n",
    "        x = torch.sigmoid(self.output_layer(x))\n",
    "        return x\n",
    "\n",
    "# Initialize the MLP\n",
    "mlp = TwoLayerMLP()\n",
    "\n",
    "# Example input\n",
    "example_input = torch.tensor([[0.5, -0.2]], dtype=torch.float32)\n",
    "\n",
    "# Forward pass\n",
    "y_pred = mlp(example_input)\n",
    "\n",
    "# Visualize the network\n",
    "dot = make_dot(y_pred, params=dict(list(mlp.named_parameters()) + [('input', example_input)]))\n",
    "dot.render('network_graph', format='png', quiet=True)  # This will save the graph as 'network_graph.png' in the working directory.\n"
   ]
  },
  {
   "cell_type": "code",
   "execution_count": 11,
   "metadata": {},
   "outputs": [
    {
     "name": "stdout",
     "output_type": "stream",
     "text": [
      "Output: tensor([[0.5007]], grad_fn=<SigmoidBackward0>)\n"
     ]
    }
   ],
   "source": [
    "# Example input: a batch of 1 sample with 2 features\n",
    "example_input = torch.tensor([[1.0, 1.0]])\n",
    "# Forward pass to get the output\n",
    "output = mlp(example_input)\n",
    "\n",
    "print(\"Output:\", output)"
   ]
  }
 ],
 "metadata": {
  "kernelspec": {
   "display_name": "venv",
   "language": "python",
   "name": "python3"
  },
  "language_info": {
   "codemirror_mode": {
    "name": "ipython",
    "version": 3
   },
   "file_extension": ".py",
   "mimetype": "text/x-python",
   "name": "python",
   "nbconvert_exporter": "python",
   "pygments_lexer": "ipython3",
   "version": "3.10.12"
  }
 },
 "nbformat": 4,
 "nbformat_minor": 2
}
