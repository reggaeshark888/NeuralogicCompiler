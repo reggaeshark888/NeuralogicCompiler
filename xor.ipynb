{
 "cells": [
  {
   "cell_type": "markdown",
   "metadata": {
    "collapsed": false
   },
   "source": [
    "# Simple Gates Interpretation"
   ]
  },
  {
   "cell_type": "markdown",
   "metadata": {
    "collapsed": false
   },
   "source": [
    "## NOR gate with neural network\n",
    "- NOR gate is a universal gate => a gate which can implement any boolean function\n",
    "- NOR truth table:\n",
    "| INPUT1 | INPUT2 | OUTPUT |\n",
    "| 0 | 0 | 1 |\n",
    "| 0 | 1 | 0 |\n",
    "| 1 | 0 | 0 |\n",
    "| 1 | 1 | 0 |\n",
    "\n",
    "![](../images/single_neuron_with_sigmoid.png)\n",
    "- NOR can be represented by a neuron with 2 inputs (W0, W1) and bias (b) with sigmoid as an activation function\n",
    "- the needed weights can be derived by looking at individual cases\n",
    "1) case (0, 0)\n",
    "sig(W0 + W1 + b) = y\n",
    "sig(0 + 0 + b) = 1\n",
    "=> b has to be positive, eg. 1\n",
    "2) case (0, 1)\n",
    "sig(W1 - 1) = 0 => set W1 to -2\n",
    "3) case (1, 0)\n",
    "4) case (1, 1)"
   ]
  },
  {
   "cell_type": "markdown",
   "metadata": {
    "collapsed": false
   },
   "source": [
    "## AND gate\n",
    "- AND truth table:\n",
    "| INPUT1 | INPUT2 | OUTPUT |\n",
    "| 0 | 0 | 0 |\n",
    "| 0 | 1 | 0 |\n",
    "| 1 | 0 | 0 |\n",
    "| 1 | 1 | 1 |\n",
    "\n",
    "1. case (0,0)\n",
    "b has to be negative, eg. -3\n",
    "2. case (0,1)\n",
    "sig(b+0+W2*1) should be less than 0\n",
    "W0+W2<0 eg. W2 = 2\n",
    "3. case (1,0)\n",
    "W1 = 2\n",
    "4. (1, 1)\n",
    "-3,2,2"
   ]
  },
  {
   "cell_type": "markdown",
   "metadata": {
    "collapsed": false
   },
   "source": [
    "## OR gate\n",
    "- AND truth table:\n",
    "| INPUT1 | INPUT2 | OUTPUT |\n",
    "| 0 | 0 | 0 |\n",
    "| 0 | 1 | 1 |\n",
    "| 1 | 0 | 1 |\n",
    "| 1 | 1 | 1 |\n",
    "1. case (0,0)\n",
    "b has to be negative value, eg.-1\n",
    "2. case (0,1)\n",
    "sig(b+0+W2*1)\n",
    "sig(-1+W2)\n",
    "then W2 has to be bigger than b, eg.2\n",
    "3. case (1,0)\n",
    "same reasoning W2 has to be bigger than b, eg.2\n",
    "4. case (1,1)\n",
    "works by chosen values"
   ]
  },
  {
   "cell_type": "markdown",
   "metadata": {
    "collapsed": false
   },
   "source": [
    "![](../images/xor_and_or_nand.png)"
   ]
  },
  {
   "cell_type": "markdown",
   "metadata": {
    "collapsed": false
   },
   "source": [
    "## Minimum weight set\n",
    "- construct linear program that solves the constraints from individual gates"
   ]
  },
  {
   "cell_type": "code",
   "execution_count": 22,
   "metadata": {
    "collapsed": false
   },
   "outputs": [
    {
     "name": "stdout",
     "output_type": "stream",
     "text": [
      "Gurobi Optimizer version 9.1.2 build v9.1.2rc0 (linux64)\n",
      "Thread count: 8 physical cores, 16 logical processors, using up to 16 threads\n",
      "Optimize a model with 8 rows, 3 columns and 16 nonzeros\n",
      "Model fingerprint: 0xd7daf6df\n",
      "Coefficient statistics:\n",
      "  Matrix range     [1e+00, 1e+00]\n",
      "  Objective range  [0e+00, 0e+00]\n",
      "  Bounds range     [1e+01, 1e+01]\n",
      "  RHS range        [1e-01, 1e-01]\n",
      "Presolve removed 2 rows and 0 columns\n",
      "Presolve time: 0.00s\n",
      "\n",
      "Solved in 0 iterations and 0.00 seconds\n",
      "Infeasible model\n"
     ]
    },
    {
     "ename": "AttributeError",
     "evalue": "Unable to retrieve attribute 'x'",
     "output_type": "error",
     "traceback": [
      "\u001b[0;31m---------------------------------------------------------------------------\u001b[0m",
      "\u001b[0;31mAttributeError\u001b[0m                            Traceback (most recent call last)",
      "Cell \u001b[0;32mIn[22], line 25\u001b[0m\n\u001b[1;32m     20\u001b[0m \u001b[39m# NAND constraints\u001b[39;00m\n\u001b[1;32m     23\u001b[0m model\u001b[39m.\u001b[39moptimize()\n\u001b[0;32m---> 25\u001b[0m \u001b[39mprint\u001b[39m(bias\u001b[39m.\u001b[39;49mx)\n\u001b[1;32m     26\u001b[0m \u001b[39mprint\u001b[39m(weight1\u001b[39m.\u001b[39mx)\n\u001b[1;32m     27\u001b[0m \u001b[39mprint\u001b[39m(weight2\u001b[39m.\u001b[39mx)\n",
      "File \u001b[0;32msrc/gurobipy/var.pxi:125\u001b[0m, in \u001b[0;36mgurobipy.Var.__getattr__\u001b[0;34m()\u001b[0m\n",
      "File \u001b[0;32msrc/gurobipy/var.pxi:153\u001b[0m, in \u001b[0;36mgurobipy.Var.getAttr\u001b[0;34m()\u001b[0m\n",
      "File \u001b[0;32msrc/gurobipy/attrutil.pxi:100\u001b[0m, in \u001b[0;36mgurobipy.__getattr\u001b[0;34m()\u001b[0m\n",
      "\u001b[0;31mAttributeError\u001b[0m: Unable to retrieve attribute 'x'"
     ]
    }
   ],
   "source": [
    "import gurobipy as g\n",
    "model = g.Model()\n",
    "\n",
    "bias = model.addVar(vtype=g.GRB.CONTINUOUS, lb=-10, ub=10, name=\"bias\")\n",
    "weight1 = model.addVar(vtype=g.GRB.CONTINUOUS, lb=-10, ub=10, name=\"weight1\")\n",
    "weight2 = model.addVar(vtype=g.GRB.CONTINUOUS, lb=-10, ub=10, name=\"weight2\")\n",
    "\n",
    "# model.setObjective(bias + weight1 + weight2, sense=g.GRB.MAXIMIZE)\n",
    "\n",
    "# AND constraints\n",
    "model.addConstr(bias + 1*weight1 + 1*weight2 >= 0.1)\n",
    "model.addConstr(bias + 0*weight1 + 1*weight2 <= -0.1)\n",
    "model.addConstr(bias + 1*weight1 + 0*weight2 <= -0.1)\n",
    "model.addConstr(bias + 0*weight1 + 0*weight2 <= -0.1)\n",
    "# OR constraints\n",
    "model.addConstr(bias + 1*weight1 + 1*weight2 >= 0.1)\n",
    "model.addConstr(bias + 0*weight1 + 1*weight2 >= 0.1)\n",
    "model.addConstr(bias + 1*weight1 + 0*weight2 >= 0.1)\n",
    "model.addConstr(bias + 0*weight1 + 0*weight2 <= -0.1)\n",
    "# NAND constraints\n",
    "\n",
    "\n",
    "model.optimize()\n",
    "\n",
    "print(bias.x)\n",
    "print(weight1.x)\n",
    "print(weight2.x)"
   ]
  },
  {
   "cell_type": "markdown",
   "metadata": {
    "collapsed": false
   },
   "source": [
    "### min weight set for AND and NOR\n",
    "| GATE | BIAS | WEIGHT1 | WEIGHT2 |\n",
    "| AND  |   -6  |    4    |    4    |\n",
    "| NOR  |   4  |    -6    |    -6    |\n"
   ]
  },
  {
   "cell_type": "markdown",
   "metadata": {
    "collapsed": false
   },
   "source": [
    "## Possible activation functions\n",
    "- sigmoid\n",
    "- threshold function\n",
    "- hyperbolic tanget"
   ]
  },
  {
   "cell_type": "code",
   "execution_count": null,
   "metadata": {
    "collapsed": false
   },
   "outputs": [],
   "source": [
    "# global imports\n",
    "import torch"
   ]
  },
  {
   "cell_type": "code",
   "execution_count": 42,
   "metadata": {},
   "outputs": [
    {
     "data": {
      "text/plain": [
       "0.9525741268224334"
      ]
     },
     "execution_count": 42,
     "metadata": {},
     "output_type": "execute_result"
    }
   ],
   "source": [
    "import math\n",
    "\n",
    "def stable_sigmoid(x):\n",
    "\n",
    "    if x >= 0:\n",
    "        z = math.exp(-x)\n",
    "        sig = 1 / (1 + z)\n",
    "        return sig\n",
    "    else:\n",
    "        z = math.exp(x)\n",
    "        sig = z / (1 + z)\n",
    "        return sig\n",
    "\n",
    "stable_sigmoid(3)"
   ]
  },
  {
   "cell_type": "markdown",
   "metadata": {
    "collapsed": false
   },
   "source": [
    "# Algorithms"
   ]
  },
  {
   "cell_type": "markdown",
   "metadata": {
    "collapsed": false
   },
   "source": [
    "## training ternary neural networks by rectified L2 regularization\n",
    "use it for.:\n",
    "### min weight set for AND and NOR\n",
    "| GATE | BIAS | WEIGHT1 | WEIGHT2 |\n",
    "| AND  |   -6  |    4    |    4    |\n",
    "| NOR  |   4  |    -6    |    -6    |\n",
    "\n",
    "### simplest architecture\n",
    "![](../images/simplest_xor_architecture.png)"
   ]
  },
  {
   "cell_type": "code",
   "execution_count": 113,
   "metadata": {
    "collapsed": false
   },
   "outputs": [
    {
     "name": "stdout",
     "output_type": "stream",
     "text": [
      "Final hidden weights: [-4.91343871 -1.47922463] [4.00612084 1.58242818]\n",
      "Final hidden bias: [-2.84768601  1.454252  ]\n",
      "Final output weights: [4.03872877] [-6.06001498]\n",
      "Final output bias: [3.95049173]\n",
      "\n",
      "Output from neural network after 10,000 epochs: [0.323194] [0.77569961] [0.72262805] [0.27666736]\n"
     ]
    }
   ],
   "source": [
    "import numpy as np\n",
    "\n",
    "def sigmoid (x):\n",
    "\treturn 1/(1 + np.exp(-x))\n",
    "\n",
    "def sigmoid_derivative(x):\n",
    "\treturn x * (1 - x)\n",
    "\n",
    "# inputs\n",
    "inputs = np.array([[0,0],[0,1],[1,0],[1,1]])\n",
    "expected_output = np.array([[0],[1],[1],[0]])\n",
    "\n",
    "# hyperparameters\n",
    "epochs = 10000\n",
    "lr = 0.1\n",
    "penalty_coefficient = 0.03\n",
    "dual_parameters = [4, -6]\n",
    "threshold = -1\n",
    "\n",
    "# initialize weigths and biases\n",
    "inputLayerNeurons, hiddenLayerNeurons, outputLayerNeurons = 2,2,1\n",
    "hidden_weights = np.random.uniform(low=-6, high=4, size=(inputLayerNeurons,hiddenLayerNeurons))\n",
    "hidden_bias =np.random.uniform(low=-6, high=4, size=(1,hiddenLayerNeurons))\n",
    "output_weights = np.random.uniform(low=-6, high=4, size=(hiddenLayerNeurons,outputLayerNeurons))\n",
    "output_bias = np.random.uniform(low=-6, high=4, size=(1,outputLayerNeurons))\n",
    "\n",
    "#Training algorithm\n",
    "for _ in range(epochs):\n",
    "\t#Forward Propagation\n",
    "\thidden_layer_activation = np.dot(inputs,hidden_weights)\n",
    "\thidden_layer_activation += hidden_bias\n",
    "\thidden_layer_output = sigmoid(hidden_layer_activation)\n",
    "\n",
    "\toutput_layer_activation = np.dot(hidden_layer_output,output_weights)\n",
    "\toutput_layer_activation += output_bias\n",
    "\tpredicted_output = sigmoid(output_layer_activation)\n",
    "\n",
    "\t#Backpropagation\n",
    "\terror = expected_output - predicted_output\n",
    "\td_predicted_output = error * sigmoid_derivative(predicted_output)\n",
    "\n",
    "\terror_hidden_layer = d_predicted_output.dot(output_weights.T)\n",
    "\td_hidden_layer = error_hidden_layer * sigmoid_derivative(hidden_layer_output)\n",
    "\n",
    "\t#Updating Weights and Biases\n",
    "\toutput_weights += hidden_layer_output.T.dot(d_predicted_output) * lr\n",
    "\toutput_bias += np.sum(d_predicted_output,axis=0,keepdims=True) * lr\n",
    "\thidden_weights += inputs.T.dot(d_hidden_layer) * lr\n",
    "\thidden_bias += np.sum(d_hidden_layer,axis=0,keepdims=True) * lr\n",
    "\n",
    "\tx = 0\n",
    "\t# todo: do this properly by backpropagation with matrix operations\n",
    "\tif(epochs > 20):\n",
    "\t\tfor i, weight in enumerate(output_weights):\n",
    "\t\t\tif weight > -1:\n",
    "\t\t\t\toutput_weights[i] = weight - 2*penalty_coefficient*(weight-4)\n",
    "\t\t\telse:\n",
    "\t\t\t\toutput_weights[i] = weight - 2*penalty_coefficient*(weight+6)\n",
    "\n",
    "\t\tif output_bias[0] > -1:\n",
    "\t\t\toutput_bias[0] = output_bias[0] - 2*penalty_coefficient*(output_bias[0]-4)\n",
    "\t\telse:\n",
    "\t\t\toutput_bias[0] = output_bias[0] - 2*penalty_coefficient*(output_bias[0]+6)\n",
    "\n",
    "\t\tfor i, weights in enumerate(hidden_weights):\n",
    "\t\t\tfor j, weight in enumerate(weights):\n",
    "\t\t\t\tif weight > -1:\n",
    "\t\t\t\t\thidden_weights[i,j] = weight - 2*penalty_coefficient*(weight-4)\n",
    "\t\t\t\telse:\n",
    "\t\t\t\t\thidden_weights[i,j] = weight - 2*penalty_coefficient*(weight+6)\n",
    "\n",
    "\t\tfor i, weights in enumerate(hidden_bias):\n",
    "\t\t\tfor j, weight in enumerate(weights):\n",
    "\t\t\t\tif weight > -1:\n",
    "\t\t\t\t\thidden_bias[i,j] = weight - 2*penalty_coefficient*(weight-4)\n",
    "\t\t\t\telse:\n",
    "\t\t\t\t\thidden_bias[i,j] = weight - 2*penalty_coefficient*(weight+6)\n",
    "\n",
    "\n",
    "\n",
    "# results\n",
    "print(\"Final hidden weights: \",end='')\n",
    "print(*hidden_weights)\n",
    "print(\"Final hidden bias: \",end='')\n",
    "print(*hidden_bias)\n",
    "print(\"Final output weights: \",end='')\n",
    "print(*output_weights)\n",
    "print(\"Final output bias: \",end='')\n",
    "print(*output_bias)\n",
    "print(\"\\nOutput from neural network after 10,000 epochs: \",end='')\n",
    "print(*predicted_output)"
   ]
  },
  {
   "cell_type": "code",
   "execution_count": null,
   "metadata": {
    "collapsed": false
   },
   "outputs": [],
   "source": []
  }
 ],
 "metadata": {
  "kernelspec": {
   "display_name": "Python 3",
   "language": "python",
   "name": "python3"
  },
  "language_info": {
   "codemirror_mode": {
    "name": "ipython",
    "version": 3
   },
   "file_extension": ".py",
   "mimetype": "text/x-python",
   "name": "python",
   "nbconvert_exporter": "python",
   "pygments_lexer": "ipython3",
   "version": "3.8.16"
  }
 },
 "nbformat": 4,
 "nbformat_minor": 1
}
