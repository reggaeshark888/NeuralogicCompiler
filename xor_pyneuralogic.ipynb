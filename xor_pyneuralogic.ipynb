{
 "cells": [
  {
   "cell_type": "code",
   "execution_count": 7,
   "metadata": {},
   "outputs": [
    {
     "name": "stdout",
     "output_type": "stream",
     "text": [
      "WARNING: pip is being invoked by an old script wrapper. This will fail in a future version of pip.\n",
      "Please see https://github.com/pypa/pip/issues/5599 for advice on fixing the underlying issue.\n",
      "To avoid this problem you can invoke Python with '-m pip' instead of running pip directly.\n",
      "Defaulting to user installation because normal site-packages is not writeable\n",
      "Collecting neuralogic\n",
      "  Downloading neuralogic-0.7.6-py3-none-any.whl (2.0 MB)\n",
      "\u001b[2K     \u001b[90m━━━━━━━━━━━━━━━━━━━━━━━━━━━━━━━━━━━━━━━━\u001b[0m \u001b[32m2.0/2.0 MB\u001b[0m \u001b[31m3.6 MB/s\u001b[0m eta \u001b[36m0:00:00\u001b[0m00:01\u001b[0m00:01\u001b[0m0m\n",
      "\u001b[?25hCollecting JPype1>=1.3.0 (from neuralogic)\n",
      "  Downloading JPype1-1.4.1-cp38-cp38-manylinux_2_12_x86_64.manylinux2010_x86_64.whl (465 kB)\n",
      "\u001b[2K     \u001b[90m━━━━━━━━━━━━━━━━━━━━━━━━━━━━━━━━━━━━━━━\u001b[0m \u001b[32m465.6/465.6 kB\u001b[0m \u001b[31m5.4 MB/s\u001b[0m eta \u001b[36m0:00:00\u001b[0ma \u001b[36m0:00:01\u001b[0m\n",
      "\u001b[?25hRequirement already satisfied: numpy>=1.19.0 in /home/reggaeshark/.local/lib/python3.8/site-packages (from neuralogic) (1.21.4)\n",
      "Requirement already satisfied: tqdm in /home/reggaeshark/.local/lib/python3.8/site-packages (from neuralogic) (4.64.1)\n",
      "Requirement already satisfied: packaging in /home/reggaeshark/.local/lib/python3.8/site-packages (from JPype1>=1.3.0->neuralogic) (23.0)\n",
      "Installing collected packages: JPype1, neuralogic\n",
      "Successfully installed JPype1-1.4.1 neuralogic-0.7.6\n"
     ]
    }
   ],
   "source": [
    "! pip install neuralogic"
   ]
  },
  {
   "cell_type": "code",
   "execution_count": 27,
   "metadata": {},
   "outputs": [],
   "source": [
    "from neuralogic.nn import get_evaluator\n",
    "from neuralogic.core import Relation, Template, Settings, R, V\n",
    "from neuralogic.dataset import Dataset\n",
    "from neuralogic.optim import SGD"
   ]
  },
  {
   "attachments": {},
   "cell_type": "markdown",
   "metadata": {},
   "source": [
    "# define dataset"
   ]
  },
  {
   "cell_type": "code",
   "execution_count": 9,
   "metadata": {},
   "outputs": [],
   "source": [
    "dataset = Dataset()\n",
    "\n",
    "dataset.add_examples(\n",
    "    [\n",
    "        Relation.xor[0] <= Relation.xy[[0, 0]],\n",
    "        Relation.xor[1] <= Relation.xy[[0, 1]],\n",
    "        Relation.xor[1] <= Relation.xy[[1, 0]],\n",
    "        Relation.xor[0] <= Relation.xy[[1, 1]],\n",
    "    ]\n",
    ")"
   ]
  },
  {
   "attachments": {},
   "cell_type": "markdown",
   "metadata": {},
   "source": [
    "# define network"
   ]
  },
  {
   "cell_type": "code",
   "execution_count": 29,
   "metadata": {},
   "outputs": [
    {
     "ename": "TypeError",
     "evalue": "unsupported operand type(s) for +=: 'Template' and 'Rule'",
     "output_type": "error",
     "traceback": [
      "\u001b[0;31m---------------------------------------------------------------------------\u001b[0m",
      "\u001b[0;31mTypeError\u001b[0m                                 Traceback (most recent call last)",
      "Cell \u001b[0;32mIn[29], line 6\u001b[0m\n\u001b[1;32m      1\u001b[0m template \u001b[39m=\u001b[39m Template()\n\u001b[1;32m      3\u001b[0m \u001b[39m# 1. There are five houses.\u001b[39;00m\n\u001b[1;32m      4\u001b[0m \u001b[39m# template += [R.house(i) for i in range(1, 6)]\u001b[39;00m\n\u001b[0;32m----> 6\u001b[0m template \u001b[39m+\u001b[39m\u001b[39m=\u001b[39m (Relation\u001b[39m.\u001b[39mxor[\u001b[39m1\u001b[39m, \u001b[39m8\u001b[39m] \u001b[39m<\u001b[39m\u001b[39m=\u001b[39m Relation\u001b[39m.\u001b[39mxy[\u001b[39m8\u001b[39m, \u001b[39m2\u001b[39m])\n\u001b[1;32m      8\u001b[0m \u001b[39mprint\u001b[39m(template)\n\u001b[1;32m      9\u001b[0m \u001b[39m# template.draw()\u001b[39;00m\n",
      "\u001b[0;31mTypeError\u001b[0m: unsupported operand type(s) for +=: 'Template' and 'Rule'"
     ]
    }
   ],
   "source": [
    "template = Template()\n",
    "\n",
    "# 1. There are five houses.\n",
    "# template += [R.house(i) for i in range(1, 6)]\n",
    "\n",
    "template += (Relation.xor[1, 8] <= Relation.xy[8, 2])\n",
    "\n",
    "print(template)\n",
    "# template.draw()"
   ]
  },
  {
   "attachments": {},
   "cell_type": "markdown",
   "metadata": {},
   "source": [
    "# training"
   ]
  },
  {
   "cell_type": "code",
   "execution_count": 18,
   "metadata": {},
   "outputs": [
    {
     "ename": "AttributeError",
     "evalue": "'NoneType' object has no attribute 'build_dataset'",
     "output_type": "error",
     "traceback": [
      "\u001b[0;31m---------------------------------------------------------------------------\u001b[0m",
      "\u001b[0;31mAttributeError\u001b[0m                            Traceback (most recent call last)",
      "Cell \u001b[0;32mIn[18], line 5\u001b[0m\n\u001b[1;32m      3\u001b[0m settings \u001b[39m=\u001b[39m Settings(optimizer\u001b[39m=\u001b[39mSGD(), epochs\u001b[39m=\u001b[39m\u001b[39m100\u001b[39m)\n\u001b[1;32m      4\u001b[0m evaluator \u001b[39m=\u001b[39m get_evaluator(template, settings)\n\u001b[0;32m----> 5\u001b[0m built_dataset \u001b[39m=\u001b[39m evaluator\u001b[39m.\u001b[39;49mbuild_dataset(dataset)\n\u001b[1;32m      7\u001b[0m \u001b[39mfor\u001b[39;00m epoch, (total_loss, seen_instances) \u001b[39min\u001b[39;00m \u001b[39menumerate\u001b[39m(evaluator\u001b[39m.\u001b[39mtrain(built_dataset)):\n\u001b[1;32m      8\u001b[0m     \u001b[39mif\u001b[39;00m epoch \u001b[39m%\u001b[39m printouts \u001b[39m==\u001b[39m \u001b[39m0\u001b[39m:\n",
      "\u001b[0;31mAttributeError\u001b[0m: 'NoneType' object has no attribute 'build_dataset'"
     ]
    }
   ],
   "source": [
    "\n",
    "printouts = 10\n",
    "\n",
    "settings = Settings(optimizer=SGD(), epochs=100)\n",
    "evaluator = get_evaluator(template, settings)\n",
    "built_dataset = evaluator.build_dataset(dataset)\n",
    "\n",
    "for epoch, (total_loss, seen_instances) in enumerate(evaluator.train(built_dataset)):\n",
    "    if epoch % printouts == 0:\n",
    "        print(f\"Epoch {epoch}, average loss {total_loss / seen_instances}\")"
   ]
  },
  {
   "attachments": {},
   "cell_type": "markdown",
   "metadata": {},
   "source": [
    "# testing"
   ]
  },
  {
   "cell_type": "code",
   "execution_count": null,
   "metadata": {},
   "outputs": [],
   "source": [
    "labels = [0, 1, 1, 0]\n",
    "\n",
    "for label, predicted in zip(labels, evaluator.test(built_dataset)):\n",
    "    print(f\"Label: {label}, predicted: {predicted}\")"
   ]
  }
 ],
 "metadata": {
  "kernelspec": {
   "display_name": "Python 3",
   "language": "python",
   "name": "python3"
  },
  "language_info": {
   "codemirror_mode": {
    "name": "ipython",
    "version": 3
   },
   "file_extension": ".py",
   "mimetype": "text/x-python",
   "name": "python",
   "nbconvert_exporter": "python",
   "pygments_lexer": "ipython3",
   "version": "3.8.16"
  },
  "orig_nbformat": 4
 },
 "nbformat": 4,
 "nbformat_minor": 2
}
