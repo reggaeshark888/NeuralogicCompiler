{
 "cells": [
  {
   "cell_type": "code",
   "execution_count": 3,
   "metadata": {},
   "outputs": [],
   "source": [
    "def make_length():\n",
    "  all_true_selector = rasp.Select(rasp.tokens, rasp.tokens, rasp.Comparison.TRUE)\n",
    "  return rasp.SelectorWidth(all_true_selector)"
   ]
  },
  {
   "cell_type": "code",
   "execution_count": 4,
   "metadata": {},
   "outputs": [
    {
     "name": "stderr",
     "output_type": "stream",
     "text": [
      "WARNING:absl:Creating a SequenceMap with both inputs being the same SOp is discouraged. You should use a Map instead.\n"
     ]
    }
   ],
   "source": [
    "from tracr.rasp import rasp\n",
    "\n",
    "length = make_length()  # `length` is not a primitive in our implementation.\n",
    "opp_index = length - rasp.indices - 1\n",
    "flip = rasp.Select(rasp.indices, opp_index, rasp.Comparison.EQ)\n",
    "reverse = rasp.Aggregate(flip, rasp.tokens)"
   ]
  },
  {
   "cell_type": "code",
   "execution_count": 5,
   "metadata": {},
   "outputs": [
    {
     "name": "stderr",
     "output_type": "stream",
     "text": [
      "WARNING:jax._src.xla_bridge:No GPU/TPU found, falling back to CPU. (Set TF_CPP_MIN_LOG_LEVEL=0 and rerun for more info.)\n"
     ]
    }
   ],
   "source": [
    "from tracr.compiler import compiling\n",
    "\n",
    "bos = \"BOS\"\n",
    "model = compiling.compile_rasp_to_model(\n",
    "    reverse,\n",
    "    vocab={1, 2, 3},\n",
    "    max_seq_len=5,\n",
    "    compiler_bos=bos,\n",
    ")"
   ]
  },
  {
   "cell_type": "code",
   "execution_count": 8,
   "metadata": {},
   "outputs": [
    {
     "ename": "TypeError",
     "evalue": "Cannot extend enumerations",
     "output_type": "error",
     "traceback": [
      "\u001b[0;31m---------------------------------------------------------------------------\u001b[0m",
      "\u001b[0;31mTypeError\u001b[0m                                 Traceback (most recent call last)",
      "Cell \u001b[0;32mIn[8], line 2\u001b[0m\n\u001b[1;32m      1\u001b[0m \u001b[39m# encode and and or with\u001b[39;00m\n\u001b[0;32m----> 2\u001b[0m comparator \u001b[39m=\u001b[39m rasp\u001b[39m.\u001b[39;49mComparison(rasp\u001b[39m.\u001b[39;49mtokens, rasp\u001b[39m.\u001b[39;49mtokens)\n\u001b[1;32m      4\u001b[0m model \u001b[39m=\u001b[39m compiling\u001b[39m.\u001b[39mcompile_rasp_to_model(\n\u001b[1;32m      5\u001b[0m     comparator, vocab\u001b[39m=\u001b[39m{\u001b[39mTrue\u001b[39;00m, \u001b[39mFalse\u001b[39;00m}, max_seq_len\u001b[39m=\u001b[39m\u001b[39m2\u001b[39m, compiler_bos\u001b[39m=\u001b[39mbos\n\u001b[1;32m      6\u001b[0m )\n",
      "File \u001b[0;32m/usr/lib/python3.8/enum.py:341\u001b[0m, in \u001b[0;36mEnumMeta.__call__\u001b[0;34m(cls, value, names, module, qualname, type, start)\u001b[0m\n\u001b[1;32m    339\u001b[0m     \u001b[39mreturn\u001b[39;00m \u001b[39mcls\u001b[39m\u001b[39m.\u001b[39m\u001b[39m__new__\u001b[39m(\u001b[39mcls\u001b[39m, value)\n\u001b[1;32m    340\u001b[0m \u001b[39m# otherwise, functional API: we're creating a new Enum type\u001b[39;00m\n\u001b[0;32m--> 341\u001b[0m \u001b[39mreturn\u001b[39;00m \u001b[39mcls\u001b[39;49m\u001b[39m.\u001b[39;49m_create_(\n\u001b[1;32m    342\u001b[0m         value,\n\u001b[1;32m    343\u001b[0m         names,\n\u001b[1;32m    344\u001b[0m         module\u001b[39m=\u001b[39;49mmodule,\n\u001b[1;32m    345\u001b[0m         qualname\u001b[39m=\u001b[39;49mqualname,\n\u001b[1;32m    346\u001b[0m         \u001b[39mtype\u001b[39;49m\u001b[39m=\u001b[39;49m\u001b[39mtype\u001b[39;49m,\n\u001b[1;32m    347\u001b[0m         start\u001b[39m=\u001b[39;49mstart,\n\u001b[1;32m    348\u001b[0m         )\n",
      "File \u001b[0;32m/usr/lib/python3.8/enum.py:444\u001b[0m, in \u001b[0;36mEnumMeta._create_\u001b[0;34m(cls, class_name, names, module, qualname, type, start)\u001b[0m\n\u001b[1;32m    442\u001b[0m metacls \u001b[39m=\u001b[39m \u001b[39mcls\u001b[39m\u001b[39m.\u001b[39m\u001b[39m__class__\u001b[39m\n\u001b[1;32m    443\u001b[0m bases \u001b[39m=\u001b[39m (\u001b[39mcls\u001b[39m, ) \u001b[39mif\u001b[39;00m \u001b[39mtype\u001b[39m \u001b[39mis\u001b[39;00m \u001b[39mNone\u001b[39;00m \u001b[39melse\u001b[39;00m (\u001b[39mtype\u001b[39m, \u001b[39mcls\u001b[39m)\n\u001b[0;32m--> 444\u001b[0m _, first_enum \u001b[39m=\u001b[39m \u001b[39mcls\u001b[39;49m\u001b[39m.\u001b[39;49m_get_mixins_(\u001b[39mcls\u001b[39;49m, bases)\n\u001b[1;32m    445\u001b[0m classdict \u001b[39m=\u001b[39m metacls\u001b[39m.\u001b[39m\u001b[39m__prepare__\u001b[39m(class_name, bases)\n\u001b[1;32m    447\u001b[0m \u001b[39m# special processing needed for names?\u001b[39;00m\n",
      "File \u001b[0;32m/usr/lib/python3.8/enum.py:576\u001b[0m, in \u001b[0;36mEnumMeta._get_mixins_\u001b[0;34m(class_name, bases)\u001b[0m\n\u001b[1;32m    574\u001b[0m member_type \u001b[39m=\u001b[39m _find_data_type(bases) \u001b[39mor\u001b[39;00m \u001b[39mobject\u001b[39m\n\u001b[1;32m    575\u001b[0m \u001b[39mif\u001b[39;00m first_enum\u001b[39m.\u001b[39m_member_names_:\n\u001b[0;32m--> 576\u001b[0m     \u001b[39mraise\u001b[39;00m \u001b[39mTypeError\u001b[39;00m(\u001b[39m\"\u001b[39m\u001b[39mCannot extend enumerations\u001b[39m\u001b[39m\"\u001b[39m)\n\u001b[1;32m    577\u001b[0m \u001b[39mreturn\u001b[39;00m member_type, first_enum\n",
      "\u001b[0;31mTypeError\u001b[0m: Cannot extend enumerations"
     ]
    }
   ],
   "source": [
    "# encode and and or with\n",
    "comparator = rasp.Comparison(rasp.tokens, rasp.tokens)\n",
    "\n",
    "model = compiling.compile_rasp_to_model(\n",
    "    comparator, vocab={'T', 'F'}, max_seq_len=2, compiler_bos=bos\n",
    ")"
   ]
  }
 ],
 "metadata": {
  "kernelspec": {
   "display_name": "Python 3",
   "language": "python",
   "name": "python3"
  },
  "language_info": {
   "codemirror_mode": {
    "name": "ipython",
    "version": 3
   },
   "file_extension": ".py",
   "mimetype": "text/x-python",
   "name": "python",
   "nbconvert_exporter": "python",
   "pygments_lexer": "ipython3",
   "version": "3.8.16"
  },
  "orig_nbformat": 4
 },
 "nbformat": 4,
 "nbformat_minor": 2
}
